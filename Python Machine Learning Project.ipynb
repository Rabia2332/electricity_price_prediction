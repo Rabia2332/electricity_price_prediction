{
 "cells": [
  {
   "cell_type": "code",
   "execution_count": null,
   "metadata": {},
   "outputs": [],
   "source": [
    "import pandas as pd\n",
    "import numpy as np\n",
    "import matplotlib.pyplot as plt\n",
    "from sklearn.model_selection import train_test_split\n",
    "from sklearn.ensemble import RandomForestRegressor\n",
    "from sklearn.metrics import mean_squared_error\n",
    "import seaborn as sns"
   ]
  },
  {
   "cell_type": "markdown",
   "metadata": {},
   "source": []
  },
  {
   "attachments": {},
   "cell_type": "markdown",
   "metadata": {},
   "source": [
    "## Preparing the data"
   ]
  },
  {
   "cell_type": "code",
   "execution_count": null,
   "metadata": {},
   "outputs": [],
   "source": [
    "df = pd.read_csv('data_science_challenge.csv', encoding='ISO-8859-1')\n",
    "df.drop('Unnamed: 3', axis=1, inplace=True)\n",
    "df.drop('Unnamed: 4', axis=1, inplace=True)\n",
    "df.drop('Unnamed: 5', axis=1, inplace=True)\n",
    "df.drop('Unnamed: 16', axis=1, inplace=True)\n",
    "df.drop('Unnamed: 11', axis=1, inplace=True)\n",
    "\n",
    "# drop the first row\n",
    "df = df.drop(0)\n",
    "\n",
    "# rename the columns\n",
    "df = df.rename(columns={\n",
    "    '?/$': 'Cost'   \n",
    "})\n",
    "\n",
    "# assign new column names to the 'Unnamed: 0' and 'Unnamed: 1' columns\n",
    "df.columns.values[0] = 'Date'\n",
    "df.columns.values[1] = 'Time'\n",
    "\n",
    "for col in df.columns:\n",
    "    if col not in ['Date', 'Time']:\n",
    "        df[col] = df[col].str.replace(',', '').astype(float)\n",
    "\n",
    "# Convert the Date and Time columns to datetime format\n",
    "df['Date'] = pd.to_datetime(df['Date'])\n",
    "df['Time'] = pd.to_datetime(df['Time'])\n",
    "\n",
    "# Extract year, month, day, and hour information from Date and Time columns\n",
    "df['Year'] = df['Date'].dt.year\n",
    "df['Month'] = df['Date'].dt.month\n",
    "df['Day'] = df['Date'].dt.day\n",
    "df['Hour'] = df['Time'].dt.hour\n",
    "\n",
    "df.drop('Date', axis=1, inplace=True)\n",
    "df.drop('Time', axis=1, inplace=True)\n",
    "\n",
    "\n",
    "df = df.dropna()"
   ]
  },
  {
   "attachments": {},
   "cell_type": "markdown",
   "metadata": {},
   "source": [
    "## Data Visualisation"
   ]
  },
  {
   "cell_type": "code",
   "execution_count": null,
   "metadata": {},
   "outputs": [],
   "source": [
    "\n",
    "# visualize the dataset to gain insights into the relationships between the various features\n",
    "sns.lmplot(x='Prognose_Verbrauch_DE', y = 'Spotmarktpreis', data= df, fit_reg=True, ci = None,line_kws={'color': 'Black'})"
   ]
  },
  {
   "attachments": {},
   "cell_type": "markdown",
   "metadata": {},
   "source": [
    "## Data Training"
   ]
  },
  {
   "cell_type": "code",
   "execution_count": null,
   "metadata": {},
   "outputs": [],
   "source": [
    "# Split the data into training and testing sets\n",
    "X_train, X_test, y_train, y_test = train_test_split(df.drop('Spotmarktpreis', axis=1), df['Spotmarktpreis'], test_size=0.2, random_state=42)\n",
    "\n",
    "# Train a RandomForestRegressor model on the training data\n",
    "model = RandomForestRegressor(n_estimators=100, random_state=42)\n",
    "model.fit(X_train, y_train)\n",
    "\n",
    "# Predict the electricity prices on the testing data\n",
    "y_pred = model.predict(X_test)"
   ]
  },
  {
   "attachments": {},
   "cell_type": "markdown",
   "metadata": {},
   "source": [
    "## Predictions"
   ]
  },
  {
   "cell_type": "code",
   "execution_count": null,
   "metadata": {},
   "outputs": [],
   "source": [
    "# make predictions on new data using the trained model\n",
    "# make predictions on new data using the trained model\n",
    "new_data = pd.DataFrame({\n",
    "    'Prognose_Verbrauch_DE': [10000],\n",
    "    'Prognose_Solar_DE': [500],\n",
    "    'Prognose_Wind_Offshore_DE': [1000],\n",
    "    'Prognose_Wind_Onshore_DE': [2000],\n",
    "    'Prognose_Temperatur_DE': [10],\n",
    "    'Prognose_Verbrauc_Fr': [8000],\n",
    "    'Prognose_Solar_Fr': [100],\n",
    "    'Prognose_Wind_Onshore_Fr': [1000],\n",
    "    'Prognose_Temperatur_Fr': [15],\n",
    "    'Kohle': [30],\n",
    "    'Gas': [20],\n",
    "    'CO2': [50],\n",
    "    'Cost': [0],\n",
    "    'Year':\t[2018],\n",
    "    'Month':[9],\n",
    "    'Day':[18],\n",
    "    'Hour':[20]\n",
    "\n",
    "})\n",
    "\n",
    "prediction = model.predict(new_data)\n",
    "print(f\"Predicted Spotmarktpreis: {prediction[0]:.2f}€\")"
   ]
  },
  {
   "attachments": {},
   "cell_type": "markdown",
   "metadata": {},
   "source": [
    "## Performance"
   ]
  },
  {
   "attachments": {
    "image.png": {
     "image/png": "[encoded data removed]"
    }
   },
   "cell_type": "markdown",
   "metadata": {},
   "source": [
    "![image.png](attachment:image.png)"
   ]
  },
  {
   "cell_type": "code",
   "execution_count": null,
   "metadata": {},
   "outputs": [],
   "source": [
    "# evaluate the performance of the model on the testing set\n",
    "y_pred = model.predict(X_test)\n",
    "mse = mean_squared_error(y_test, y_pred)\n",
    "print(f\"Mean Squared Error: {mse:.2f}\")\n"
   ]
  }
 ],
 "metadata": {
  "kernelspec": {
   "display_name": "Python 3",
   "language": "python",
   "name": "python3"
  },
  "language_info": {
   "codemirror_mode": {
    "name": "ipython",
    "version": 3
   },
   "file_extension": ".py",
   "mimetype": "text/x-python",
   "name": "python",
   "nbconvert_exporter": "python",
   "pygments_lexer": "ipython3",
   "version": "3.10.11"
  },
  "orig_nbformat": 4,
  "vscode": {
   "interpreter": {
    "hash": "2e9e434397abc77b9c9545e8fe98953cb6ecfc4488dd87c6948c0ec84c313ccd"
   }
  }
 },
 "nbformat": 4,
 "nbformat_minor": 2
}
